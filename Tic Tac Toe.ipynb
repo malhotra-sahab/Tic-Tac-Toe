{
 "cells": [
  {
   "cell_type": "code",
   "execution_count": 1,
   "metadata": {},
   "outputs": [],
   "source": [
    "from IPython.display import clear_output"
   ]
  },
  {
   "cell_type": "code",
   "execution_count": 2,
   "metadata": {},
   "outputs": [],
   "source": [
    "def display_board(board):\n",
    "    clear_output()\n",
    "    print('   |   |')\n",
    "    print(' ' + board[7] + ' | ' + board[8] + ' | ' + board[9])\n",
    "    print('   |   |')\n",
    "    print('-----------')\n",
    "    print('   |   |')\n",
    "    print(' ' + board[4] + ' | ' + board[5] + ' | ' + board[6])\n",
    "    print('   |   |')\n",
    "    print('-----------')\n",
    "    print('   |   |')\n",
    "    print(' ' + board[1] + ' | ' + board[2] + ' | ' + board[3])\n",
    "    print('   |   |')"
   ]
  },
  {
   "cell_type": "code",
   "execution_count": 3,
   "metadata": {},
   "outputs": [
    {
     "name": "stdout",
     "output_type": "stream",
     "text": [
      "   |   |\n",
      "   |   |  \n",
      "   |   |\n",
      "-----------\n",
      "   |   |\n",
      "   |   |  \n",
      "   |   |\n",
      "-----------\n",
      "   |   |\n",
      "   |   |  \n",
      "   |   |\n"
     ]
    }
   ],
   "source": [
    "test_board=[' ']*10\n",
    "display_board(test_board)"
   ]
  },
  {
   "cell_type": "code",
   "execution_count": 4,
   "metadata": {},
   "outputs": [],
   "source": [
    "def player_input():\n",
    "    marker=''\n",
    "    \n",
    "    while not (marker=='X' or marker=='O'):\n",
    "        marker=input(\"Please enter your choice(X or O):\").upper()\n",
    "    if marker=='X':\n",
    "        return ('X','O')\n",
    "    else:\n",
    "        return ('O','X')"
   ]
  },
  {
   "cell_type": "code",
   "execution_count": null,
   "metadata": {},
   "outputs": [],
   "source": []
  },
  {
   "cell_type": "code",
   "execution_count": 5,
   "metadata": {},
   "outputs": [],
   "source": [
    "def place_marker(board,marker,position):\n",
    "    board[position]=marker"
   ]
  },
  {
   "cell_type": "code",
   "execution_count": 6,
   "metadata": {},
   "outputs": [
    {
     "name": "stdout",
     "output_type": "stream",
     "text": [
      "   |   |\n",
      "   |   | X\n",
      "   |   |\n",
      "-----------\n",
      "   |   |\n",
      "   |   |  \n",
      "   |   |\n",
      "-----------\n",
      "   |   |\n",
      "   |   |  \n",
      "   |   |\n"
     ]
    }
   ],
   "source": [
    "place_marker(test_board,'X',9)\n",
    "display_board(test_board)"
   ]
  },
  {
   "cell_type": "code",
   "execution_count": 7,
   "metadata": {},
   "outputs": [],
   "source": [
    "def win_check(board,mark):\n",
    "    return ((board[7]==board[8]==board[9]==mark) or\n",
    "           (board[4]==board[5]==board[6]==mark) or\n",
    "           (board[1]==board[2]==board[3]==mark) or\n",
    "           (board[7]==board[4]==board[1]==mark) or\n",
    "           (board[8]==board[5]==board[2]==mark) or\n",
    "           (board[9]==board[6]==board[3]==mark) or\n",
    "           (board[1]==board[5]==board[9]==mark) or\n",
    "           (board[7]==board[5]==board[3]==mark))"
   ]
  },
  {
   "cell_type": "code",
   "execution_count": 8,
   "metadata": {},
   "outputs": [
    {
     "data": {
      "text/plain": [
       "False"
      ]
     },
     "execution_count": 8,
     "metadata": {},
     "output_type": "execute_result"
    }
   ],
   "source": [
    "win_check(test_board,'X')"
   ]
  },
  {
   "cell_type": "code",
   "execution_count": 9,
   "metadata": {},
   "outputs": [],
   "source": [
    "import random"
   ]
  },
  {
   "cell_type": "code",
   "execution_count": 10,
   "metadata": {},
   "outputs": [],
   "source": [
    "def choose_first():\n",
    "    if random.randint(0,1)==0:\n",
    "        return 'Player 2'\n",
    "    else:\n",
    "        return 'Player 1'\n",
    "    "
   ]
  },
  {
   "cell_type": "code",
   "execution_count": 11,
   "metadata": {},
   "outputs": [],
   "source": [
    "def space_check(board,position):\n",
    "    return board[position]==' '"
   ]
  },
  {
   "cell_type": "code",
   "execution_count": 12,
   "metadata": {},
   "outputs": [],
   "source": [
    "def full_board_check(board):\n",
    "    for i in range(1,10):\n",
    "        if space_check(board,i):\n",
    "            return False\n",
    "    return True\n",
    "            "
   ]
  },
  {
   "cell_type": "code",
   "execution_count": 13,
   "metadata": {},
   "outputs": [],
   "source": [
    "def player_choice(board):\n",
    "    position=0\n",
    "    while position not in [1,2,3,4,5,6,7,8,9] or not space_check(board,position):\n",
    "        position=int(input('Choose your next position: (1-9) '))\n",
    "    return position\n",
    "\n",
    "\n",
    "\n",
    "\n",
    "\n",
    "\n",
    "\n",
    "\n"
   ]
  },
  {
   "cell_type": "code",
   "execution_count": 14,
   "metadata": {},
   "outputs": [],
   "source": [
    "def replay():\n",
    "    return input(\"Do you want to play again:Enter 'Yes or no':\").lower().startswith('y')"
   ]
  },
  {
   "cell_type": "code",
   "execution_count": 15,
   "metadata": {},
   "outputs": [
    {
     "name": "stdout",
     "output_type": "stream",
     "text": [
      "   |   |\n",
      " O |   |  \n",
      "   |   |\n",
      "-----------\n",
      "   |   |\n",
      " O |   |  \n",
      "   |   |\n",
      "-----------\n",
      "   |   |\n",
      " X | X |  \n",
      "   |   |\n",
      "Choose your next position: (1-9) 3\n"
     ]
    },
    {
     "data": {
      "text/plain": [
       "[' ', 'X', 'X', 'X', 'O', ' ', ' ', 'O', ' ', ' ']"
      ]
     },
     "metadata": {},
     "output_type": "display_data"
    },
    {
     "name": "stdout",
     "output_type": "stream",
     "text": [
      "Congratulations Player 1 has won the game\n",
      "Do you want to play again:Enter 'Yes or no':n\n"
     ]
    }
   ],
   "source": [
    "print(\"Welcome to Tic Tac Toe by Daksh\")\n",
    "while True:\n",
    "    \n",
    "    the_board=[' ']*10\n",
    "    player1_marker,player2_marker= player_input()\n",
    "    turn=choose_first()\n",
    "    print(turn +' will go first.')\n",
    "    play_game=input(\"Are you ready to play?enter yes or no\")\n",
    "    if play_game.lower()[0]=='y':\n",
    "        game_on=True\n",
    "    else:\n",
    "        game_on=False\n",
    "    while game_on:\n",
    "        \n",
    "        if turn=='Player 1':\n",
    "            display_board(the_board)\n",
    "            position=player_choice(the_board)\n",
    "            place_marker(the_board,player1_marker,position)\n",
    "            if win_check(the_board,player1_marker):\n",
    "                display(the_board)\n",
    "                print(\"Congratulations Player 1 has won the game\")\n",
    "                game_on=False\n",
    "            else:\n",
    "                if full_board_check(the_board):\n",
    "                    print(\"It's a Draw\")\n",
    "                    display_board(the_board)\n",
    "                    break\n",
    "                else:\n",
    "                    turn='Player 2'\n",
    "        else:\n",
    "            display_board(the_board)\n",
    "            position=player_choice(the_board)\n",
    "            place_marker(the_board,player2_marker,position)\n",
    "            if win_check(the_board,player2_marker):\n",
    "                display(the_board)\n",
    "                print(\"Congratulations Player 2 has won the game\")\n",
    "                game_on=False\n",
    "            else:\n",
    "                if full_board_check(the_board):\n",
    "                    print(\"It's a Draw\")\n",
    "                    display_board(the_board)\n",
    "                    break\n",
    "                else:\n",
    "                    turn='Player 1'\n",
    "    if not replay():\n",
    "        break\n",
    "                \n",
    "                        \n",
    "            \n",
    "            \n",
    "            \n",
    "            \n",
    "            \n",
    "            \n",
    "            \n",
    "            "
   ]
  },
  {
   "cell_type": "code",
   "execution_count": null,
   "metadata": {},
   "outputs": [],
   "source": []
  }
 ],
 "metadata": {
  "kernelspec": {
   "display_name": "Python 3",
   "language": "python",
   "name": "python3"
  },
  "language_info": {
   "codemirror_mode": {
    "name": "ipython",
    "version": 3
   },
   "file_extension": ".py",
   "mimetype": "text/x-python",
   "name": "python",
   "nbconvert_exporter": "python",
   "pygments_lexer": "ipython3",
   "version": "3.7.4"
  }
 },
 "nbformat": 4,
 "nbformat_minor": 2
}
